{
  "nbformat": 4,
  "nbformat_minor": 0,
  "metadata": {
    "colab": {
      "provenance": []
    },
    "kernelspec": {
      "name": "python3",
      "display_name": "Python 3"
    },
    "language_info": {
      "name": "python"
    }
  },
  "cells": [
    {
      "cell_type": "code",
      "execution_count": 2,
      "metadata": {
        "colab": {
          "base_uri": "https://localhost:8080/"
        },
        "id": "bRueJypqSMSy",
        "outputId": "3f1d47b6-1b50-42ef-a4a3-178a65f25945"
      },
      "outputs": [
        {
          "output_type": "stream",
          "name": "stdout",
          "text": [
            "RMSLE : 0.2159\n"
          ]
        }
      ],
      "source": [
        "import pandas as pd\n",
        "import numpy as np\n",
        "from sklearn.ensemble import RandomForestRegressor\n",
        "from sklearn.model_selection import train_test_split\n",
        "from sklearn.metrics import mean_squared_log_error\n",
        "from sklearn.preprocessing import LabelEncoder\n",
        "\n",
        "train_df = pd.read_csv(\"Train.csv\", low_memory=False)\n",
        "test_df = pd.read_csv(\"Test.csv\", low_memory=False)\n",
        "\n",
        "train_df['saledate'] = pd.to_datetime(train_df['saledate'])\n",
        "test_df['saledate'] = pd.to_datetime(test_df['saledate'])\n",
        "\n",
        "train_df['saleYear'] = train_df['saledate'].dt.year\n",
        "train_df['saleMonth'] = train_df['saledate'].dt.month\n",
        "test_df['saleYear'] = test_df['saledate'].dt.year\n",
        "test_df['saleMonth'] = test_df['saledate'].dt.month\n",
        "\n",
        "train_df.drop('saledate', axis=1, inplace=True)\n",
        "test_df.drop('saledate', axis=1, inplace=True)\n",
        "missing = train_df.isnull().sum() / len(train_df)\n",
        "drop_cols = missing[missing > 0.80].index.tolist()\n",
        "\n",
        "train_df.drop(columns=drop_cols, inplace=True)\n",
        "test_df.drop(columns=[col for col in drop_cols if col in test_df.columns], inplace=True)\n",
        "\n",
        "cat_cols_train = train_df.select_dtypes(include='object').columns\n",
        "cat_cols_test = test_df.select_dtypes(include='object').columns\n",
        "\n",
        "train_df[cat_cols_train] = train_df[cat_cols_train].fillna(\"None\")\n",
        "test_df[cat_cols_test] = test_df[cat_cols_test].fillna(\"None\")\n",
        "\n",
        "num_cols_train = train_df.select_dtypes(include=['float64', 'int64']).columns.drop('SalePrice')\n",
        "for col in num_cols_train:\n",
        "    train_df[col] = train_df[col].fillna(train_df[col].median())\n",
        "\n",
        "num_cols_test = test_df.select_dtypes(include=['float64', 'int64']).columns\n",
        "for col in num_cols_test:\n",
        "    test_df[col] = test_df[col].fillna(test_df[col].median())\n",
        "\n",
        "combined = pd.concat([train_df.drop('SalePrice', axis=1), test_df], axis=0)\n",
        "\n",
        "label_encoders = {}\n",
        "for col in combined.select_dtypes(include='object').columns:\n",
        "    le = LabelEncoder()\n",
        "    combined[col] = le.fit_transform(combined[col].astype(str))\n",
        "    label_encoders[col] = le\n",
        "\n",
        "train_encoded = combined.iloc[:len(train_df), :]\n",
        "test_encoded = combined.iloc[len(train_df):, :]\n",
        "\n",
        "X = train_encoded\n",
        "y = train_df['SalePrice']\n",
        "X_train, X_valid, y_train, y_valid = train_test_split(X, y, test_size=0.2, random_state=42)\n",
        "\n",
        "model = RandomForestRegressor(n_estimators=100, n_jobs=-1, random_state=42)\n",
        "model.fit(X_train, y_train)\n",
        "\n",
        "valid_preds = model.predict(X_valid)\n",
        "rmsle = np.sqrt(mean_squared_log_error(y_valid, valid_preds))\n",
        "print(f\"RMSLE : {rmsle:.4f}\")\n",
        "\n",
        "\n",
        "test_preds = model.predict(test_encoded.drop(columns=[\"SalePrice\"], errors='ignore'))\n",
        "\n",
        "submission = pd.DataFrame({\n",
        "    \"SalesID\": test_df[\"SalesID\"],\n",
        "    \"SalePrice\": test_preds\n",
        "})\n",
        "\n",
        "submission.to_csv(\"test_predictions.csv\", index=False)\n",
        "\n"
      ]
    }
  ]
}